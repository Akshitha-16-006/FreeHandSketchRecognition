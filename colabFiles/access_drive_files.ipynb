from google.colab import drive
drive.mount('/content/drive')

!unzip -uq "/content/drive/My Drive/final_dataset.zip" -d "/content/drive/My Drive/dataset"